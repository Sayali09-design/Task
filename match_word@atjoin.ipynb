{
 "cells": [
  {
   "cell_type": "code",
   "execution_count": 2,
   "id": "18912e37",
   "metadata": {},
   "outputs": [
    {
     "name": "stdout",
     "output_type": "stream",
     "text": [
      "Match Percentage: 320.0%\n",
      "Matched Words: ['business', 'statistics', 'business', 'analysis', 'data', 'statistics', 'business', 'data', 'data', 'business', 'data', 'data', 'analysis', 'analysis', 'analysis', 'data']\n"
     ]
    }
   ],
   "source": [
    "import PyPDF2\n",
    "import re\n",
    "import csv\n",
    "\n",
    "# Function to extract text from PDF\n",
    "def extract_text_from_pdf(pdf_file):\n",
    "    with open(pdf_file, 'rb') as file:\n",
    "        reader = PyPDF2.PdfReader(file)\n",
    "        text = ''\n",
    "        for page in range(len(reader.pages)):\n",
    "            text += reader.pages[page].extract_text()\n",
    "    return text\n",
    "\n",
    "# Function to process extracted text (tokenize and clean)\n",
    "def process_text(text):\n",
    "    # Remove punctuation and convert to lowercase\n",
    "    text = re.sub(r'[^\\w\\s]', '', text.lower())\n",
    "    # Tokenize by splitting on whitespace\n",
    "    words = text.split()\n",
    "    return words\n",
    "\n",
    "# Function to remove stopwords (common English words)\n",
    "def remove_stopwords(words):\n",
    "    stop_words = set([\n",
    "        'the', 'is', 'in', 'it', 'of', 'and', 'to', 'a', 'that', 'on', 'for', \n",
    "        'this', 'with', 'as', 'by', 'at', 'an', 'be', 'or', 'from', 'which'\n",
    "    ])  # You can expand this list based on your needs\n",
    "    filtered_words = [word for word in words if word not in stop_words]\n",
    "    return filtered_words\n",
    "\n",
    "# Function to calculate match percentage\n",
    "def calculate_match_percentage(extracted_words, reference_words):\n",
    "    matches = [word for word in extracted_words if word in reference_words]\n",
    "    match_percentage = (len(matches) / len(reference_words)) * 100\n",
    "    return match_percentage, matches\n",
    "\n",
    "# Function to save the report (CSV)\n",
    "def save_report_to_csv(reference_words, matches, match_percentage):\n",
    "    with open('match_report.csv', mode='w', newline='') as file:\n",
    "        writer = csv.writer(file)\n",
    "        writer.writerow(['Reference Word', 'Matched'])\n",
    "        for word in reference_words:\n",
    "            writer.writerow([word, word in matches])\n",
    "        writer.writerow([])\n",
    "        writer.writerow(['Match Percentage', f'{match_percentage}%'])\n",
    "\n",
    "# Main function to execute the task\n",
    "def main():\n",
    "    # Path to PDF and reference list\n",
    "    pdf_path = 'sample.pdf'  # Change this to your actual PDF file path\n",
    "    reference_list = ['business', 'data', 'statistics', 'model', 'analysis']  # Example reference list\n",
    "\n",
    "    # Step 1: Extract text from the PDF\n",
    "    extracted_text = extract_text_from_pdf(pdf_path)\n",
    "    \n",
    "    # Step 2: Process the extracted text (tokenize and clean)\n",
    "    extracted_words = process_text(extracted_text)\n",
    "    \n",
    "    # Step 3: Remove stopwords\n",
    "    cleaned_words = remove_stopwords(extracted_words)\n",
    "    \n",
    "    # Step 4: Calculate the match percentage\n",
    "    match_percentage, matches = calculate_match_percentage(cleaned_words, reference_list)\n",
    "    \n",
    "    # Step 5: Produce output\n",
    "    print(f'Match Percentage: {match_percentage}%')\n",
    "    print(f'Matched Words: {matches}')\n",
    "    \n",
    "    # Save to CSV file\n",
    "    save_report_to_csv(reference_list, matches, match_percentage)\n",
    "\n",
    "# Run the main function\n",
    "if __name__ == '__main__':\n",
    "    main()\n"
   ]
  },
  {
   "cell_type": "code",
   "execution_count": null,
   "id": "6ad44858",
   "metadata": {},
   "outputs": [],
   "source": []
  },
  {
   "cell_type": "code",
   "execution_count": null,
   "id": "549d9b8e",
   "metadata": {},
   "outputs": [],
   "source": []
  }
 ],
 "metadata": {
  "kernelspec": {
   "display_name": "Python 3 (ipykernel)",
   "language": "python",
   "name": "python3"
  },
  "language_info": {
   "codemirror_mode": {
    "name": "ipython",
    "version": 3
   },
   "file_extension": ".py",
   "mimetype": "text/x-python",
   "name": "python",
   "nbconvert_exporter": "python",
   "pygments_lexer": "ipython3",
   "version": "3.11.1"
  }
 },
 "nbformat": 4,
 "nbformat_minor": 5
}
